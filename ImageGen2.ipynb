{
  "cells": [
    {
      "cell_type": "markdown",
      "metadata": {
        "id": "view-in-github",
        "colab_type": "text"
      },
      "source": [
        "<a href=\"https://colab.research.google.com/github/caqq07/ZAXAZCXCACAXCAXCA/blob/main/ImageGen2.ipynb\" target=\"_parent\"><img src=\"https://colab.research.google.com/assets/colab-badge.svg\" alt=\"Open In Colab\"/></a>"
      ]
    },
    {
      "cell_type": "code",
      "execution_count": null,
      "metadata": {
        "id": "tPTxSzSPsUMm"
      },
      "outputs": [],
      "source": [
        "!pip install -q invisible_watermark transformers accelerate safetensors diffusers controlnet_aux==0.0.7 xformers mediapy"
      ]
    },
    {
      "cell_type": "markdown",
      "metadata": {
        "id": "0ctlVO_QGzJd"
      },
      "source": [
        "# Inference with pipelines\n",
        "- For base SDXL"
      ]
    },
    {
      "cell_type": "code",
      "execution_count": null,
      "metadata": {
        "id": "A9NXfCSEQtWo"
      },
      "outputs": [],
      "source": [
        "import torch\n",
        "from diffusers import StableDiffusionXLImg2ImgPipeline, DiffusionPipeline, KDPM2AncestralDiscreteScheduler, StableDiffusionXLPipeline, AutoencoderKL\n",
        "import gc\n",
        "from PIL import Image\n",
        "import requests\n",
        "from io import BytesIO\n",
        "from IPython.display import display\n"
      ]
    },
    {
      "cell_type": "code",
      "execution_count": null,
      "metadata": {
        "id": "UPFlsDXxuOiT"
      },
      "outputs": [],
      "source": [
        "\n",
        "from diffusers import StableDiffusionXLPipeline\n",
        "import torch\n",
        "\n",
        "model_base = \"femboysLover/blue_pencil-fp16-XL\"\n",
        "v_autoencoder = \"madebyollin/sdxl-vae-fp16-fix\"\n",
        "\n",
        "vae = AutoencoderKL.from_pretrained(v_autoencoder, torch_dtype=torch.float16)\n",
        "\n",
        "\n",
        "pipe = StableDiffusionXLPipeline.from_pretrained(\n",
        "    model_base,\n",
        "    torch_dtype=torch.float16,\n",
        "    vae=vae,\n",
        "    add_watermarker=False, # no watermarker\n",
        "    )\n",
        "\n",
        "pipe.safety_checker = None\n",
        "\n",
        "pipe.to(\"cuda\")"
      ]
    },
    {
      "cell_type": "markdown",
      "metadata": {
        "id": "ThaRgJe8G6g4"
      },
      "source": [
        "- Refiner of SDXL."
      ]
    },
    {
      "cell_type": "code",
      "execution_count": null,
      "metadata": {
        "id": "MjwWxGOiwVF7"
      },
      "outputs": [],
      "source": [
        "model_refiner = \"stabilityai/stable-diffusion-xl-refiner-1.0\"\n",
        "\n",
        "pipe_refiner = StableDiffusionXLImg2ImgPipeline.from_pretrained(\n",
        "    model_refiner,\n",
        "    torch_dtype=torch.float16,\n",
        "    use_safetensors=True,\n",
        "    variant=\"fp16\",\n",
        "    add_watermarker=False, # no watermarker\n",
        "    )\n",
        "\n",
        "#pipe_refiner.to(\"cuda\")\n",
        "pipe_refiner.enable_model_cpu_offload()"
      ]
    },
    {
      "cell_type": "code",
      "execution_count": null,
      "metadata": {
        "id": "cYXZpIm3PxeM"
      },
      "outputs": [],
      "source": [
        "prompt = \"(((hdr, masterpiece, highest resolution, best quality, beautiful, raw image))), (((extremely detailed, rendered))), female russian, white, ((age 25)), with Red hair, long face,  naked boobs,, ass view behind shot, Hair Style: curly, long, blue, maid outfit, In Istanbul, ((full body))\"\n",
        "prompt2 = \"(((hdr, masterpiece, highest resolution, best quality, beautiful, raw image))), (((extremely detailed, rendered))), female russian, white, ((age 25)), with Red hair, long face,  naked boobs,, ass view behind shot, Hair Style: curly, long, blue, maid outfit, In Istanbul, naked boobs, ((full body))\"\n",
        "negative_prompt = \"longbody, lowres, bad anatomy, bad hands, missing fingers, pubic hair,extra digit, fewer digits, cropped, worst quality, low quality\"\n",
        "negative_prompt2 = \"longbody, lowres, bad anatomy, bad hands, missing fingers, pubic hair,extra digit, fewer digits, cropped, worst quality, low quality\"\n",
        "\n",
        "image_base_latent = pipe(\n",
        "    prompt=prompt,\n",
        "    prompt_2=prompt2,\n",
        "    negative_prompt=negative_prompt,\n",
        "    negative_prompt_2=negative_prompt2,\n",
        "    guidance_scale=7.0,\n",
        "    height=1344,\n",
        "    width=768,\n",
        "    num_inference_steps=25,\n",
        "    output_type=\"latent\",\n",
        "    denoising_end=0.8 # Cut the base denoising in 80%\n",
        "    ).images[0]\n",
        "print(image_base_latent.shape)\n",
        "\n",
        "gc.collect()\n",
        "torch.cuda.empty_cache()\n",
        "\n",
        "image_refiner = pipe_refiner(\n",
        "    prompt=prompt,\n",
        "    prompt_2=prompt2,\n",
        "    negative_prompt=negative_prompt,\n",
        "    negative_prompt_2=negative_prompt2,\n",
        "    image=image_base_latent,\n",
        "    num_inference_steps=25,\n",
        "    height=1344,\n",
        "    width=768,\n",
        "    strength=0.3,\n",
        "    denoising_start=0.8\n",
        "    ).images[0]\n",
        "\n",
        "gc.collect()\n",
        "torch.cuda.empty_cache()"
      ]
    },
    {
      "cell_type": "code",
      "execution_count": null,
      "metadata": {
        "id": "lBUXalfOQBQf"
      },
      "outputs": [],
      "source": [
        "image_refiner"
      ]
    }
  ],
  "metadata": {
    "accelerator": "GPU",
    "colab": {
      "provenance": [],
      "include_colab_link": true
    },
    "kernelspec": {
      "display_name": "Python 3",
      "name": "python3"
    },
    "language_info": {
      "name": "python"
    }
  },
  "nbformat": 4,
  "nbformat_minor": 0
}